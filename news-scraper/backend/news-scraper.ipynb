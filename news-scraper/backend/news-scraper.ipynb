{
 "cells": [
  {
   "cell_type": "code",
   "execution_count": null,
   "metadata": {},
   "outputs": [],
   "source": [
    "# e1f5wbog0 - class for bbc anchor tags \n",
    "from urllib.request import urlopen\n",
    "from datetime import datetime\n",
    "from bs4 import BeautifulSoup\n",
    "import psycopg2"
   ]
  },
  {
   "cell_type": "code",
   "execution_count": null,
   "metadata": {},
   "outputs": [],
   "source": [
    "def get_html(url):\n",
    "    page = urlopen(url)\n",
    "    html_bytes = page.read()\n",
    "    html = html_bytes.decode('utf_8')\n",
    "    return html"
   ]
  },
  {
   "cell_type": "code",
   "execution_count": null,
   "metadata": {},
   "outputs": [],
   "source": [
    "def parse_stories(domain_url, html):\n",
    "    soup = BeautifulSoup(html, 'html.parser')\n",
    "    anchor_tags = soup.select('.e1f5wbog0')\n",
    "    stories = []\n",
    "    for tag in anchor_tags:\n",
    "        url = domain_url + tag.get('href')\n",
    "        title = tag.get_text()\n",
    "        if url and title:\n",
    "            stories.append((title, url, datetime.utcnow(), datetime.utcnow()))\n",
    "\n",
    "    return stories"
   ]
  },
  {
   "cell_type": "code",
   "execution_count": null,
   "metadata": {},
   "outputs": [],
   "source": [
    "def connect_to_db():\n",
    "    conn = psycopg2.connect(host=\"localhost\",database=\"social_news\", user=\"sonali\")\n",
    "    return conn"
   ]
  },
  {
   "cell_type": "code",
   "execution_count": null,
   "metadata": {},
   "outputs": [],
   "source": [
    "def insert_stories(stories):\n",
    "    sql = \"INSERT INTO stories(title, url, created_at, updated_at) VALUES(%s, %s, %s, %s)\"\n",
    "    conn = None\n",
    "    try: \n",
    "        conn = connect_to_db()\n",
    "        cur = conn.cursor()\n",
    "        cur.executemany(sql, stories)\n",
    "        conn.commit()\n",
    "        cur.close()\n",
    "    except (Exception, psycopg2.DatabaseError) as error:\n",
    "        print(\"Error: \")\n",
    "        print(error)\n",
    "    finally:\n",
    "        if conn is not None:\n",
    "            conn.close()"
   ]
  },
  {
   "cell_type": "code",
   "execution_count": null,
   "metadata": {},
   "outputs": [],
   "source": [
    "def get_stories():\n",
    "    conn = None\n",
    "    try:\n",
    "        conn = connect_to_db()\n",
    "        cur = conn.cursor()\n",
    "        cur.execute('SELECT * FROM stories ORDER BY id DESC;')\n",
    "        data = cur.fetchall()\n",
    "        print(cur.rowcount)\n",
    "        for row in data:\n",
    "            print(row)\n",
    "        \n",
    "        cur.close()\n",
    "    except (Exception, psycopg2.DatabaseError) as error:\n",
    "        print(error)\n",
    "    finally:\n",
    "        if conn is not None:\n",
    "            conn.close()"
   ]
  },
  {
   "cell_type": "code",
   "execution_count": null,
   "metadata": {},
   "outputs": [],
   "source": [
    "def run():\n",
    "    url = \"http://bbc.co.uk\"\n",
    "    stories = parse_stories(url, get_html(url))\n",
    "    # insert_stories(stories)\n",
    "    # get_stories()\n",
    "\n",
    "# run()"
   ]
  }
 ],
 "metadata": {
  "kernelspec": {
   "display_name": "Python 3.9.13 64-bit",
   "language": "python",
   "name": "python3"
  },
  "language_info": {
   "codemirror_mode": {
    "name": "ipython",
    "version": 3
   },
   "file_extension": ".py",
   "mimetype": "text/x-python",
   "name": "python",
   "nbconvert_exporter": "python",
   "pygments_lexer": "ipython3",
   "version": "3.10.8"
  },
  "orig_nbformat": 4,
  "vscode": {
   "interpreter": {
    "hash": "b0fa6594d8f4cbf19f97940f81e996739fb7646882a419484c72d19e05852a7e"
   }
  }
 },
 "nbformat": 4,
 "nbformat_minor": 2
}
